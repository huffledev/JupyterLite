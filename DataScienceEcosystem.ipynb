{
  "metadata": {
    "kernelspec": {
      "name": "python",
      "display_name": "Python (Pyodide)",
      "language": "python"
    },
    "language_info": {
      "codemirror_mode": {
        "name": "python",
        "version": 3
      },
      "file_extension": ".py",
      "mimetype": "text/x-python",
      "name": "python",
      "nbconvert_exporter": "python",
      "pygments_lexer": "ipython3",
      "version": "3.8"
    }
  },
  "nbformat_minor": 4,
  "nbformat": 4,
  "cells": [
    {
      "cell_type": "markdown",
      "source": "# Data Science Tools and Ecosystem",
      "metadata": {}
    },
    {
      "cell_type": "markdown",
      "source": "In this notebook, Data Science Tools and Ecosystem are summarized.",
      "metadata": {}
    },
    {
      "cell_type": "markdown",
      "source": "Some of the popular languages that Data Scientists use are:\n1. Python\n2. R\n3. Julia\n\n* Python\n* R\n* Julia\n\nSome of the commonly used libraries used by Data Scientists include:\n1. Pandas\n2. Numpy\n3. SciPy\n\n* Pandas\n* Numpy\n* SciPy",
      "metadata": {}
    },
    {
      "cell_type": "markdown",
      "source": "개발 환경 오픈 소스 도구\n\n*Jupyter Notebooks: 브라우저에서 실행되는 코드 및 텍스트의 유연한 인터페이스\n\n*Google Colab: 클라우드에서 실행되는 Juypyter Notebooks\n\n*RStudio: R언어를 위한 통합 개발 환경",
      "metadata": {}
    },
    {
      "cell_type": "markdown",
      "source": "### Below are a few examples of evaluating arithmetic expressions in Python\n",
      "metadata": {}
    },
    {
      "cell_type": "code",
      "source": "# This a simple arithmetic expression to mutiply then add integers\n(3*4)+5",
      "metadata": {
        "trusted": true
      },
      "outputs": [
        {
          "execution_count": 9,
          "output_type": "execute_result",
          "data": {
            "text/plain": "17"
          },
          "metadata": {}
        }
      ],
      "execution_count": 9
    },
    {
      "cell_type": "code",
      "source": "# This will convert 200 minutes to hours by diving by 60\nminutes = 200\nhours = int(minutes / 60)\nhours",
      "metadata": {
        "trusted": true
      },
      "outputs": [
        {
          "execution_count": 32,
          "output_type": "execute_result",
          "data": {
            "text/plain": "3"
          },
          "metadata": {}
        }
      ],
      "execution_count": 32
    },
    {
      "cell_type": "markdown",
      "source": "# Objectives\r\n\r\n* Learn about the basics of data science\r\n* Learn how to use popular data science tools\r\n* Practice data science skills with real-world data",
      "metadata": {}
    },
    {
      "cell_type": "markdown",
      "source": "## jinseong kim\n참고: 노트북을 저장하고 다운로드하세요.",
      "metadata": {}
    }
  ]
}